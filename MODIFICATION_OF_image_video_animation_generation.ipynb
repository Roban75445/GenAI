{
  "nbformat": 4,
  "nbformat_minor": 0,
  "metadata": {
    "colab": {
      "provenance": [],
      "include_colab_link": true
    },
    "kernelspec": {
      "name": "python3",
      "display_name": "Python 3"
    },
    "language_info": {
      "name": "python"
    }
  },
  "cells": [
    {
      "cell_type": "markdown",
      "metadata": {
        "id": "view-in-github",
        "colab_type": "text"
      },
      "source": [
        "<a href=\"https://colab.research.google.com/github/Roban75445/GenAI/blob/main/MODIFICATION_OF_image_video_animation_generation.ipynb\" target=\"_parent\"><img src=\"https://colab.research.google.com/assets/colab-badge.svg\" alt=\"Open In Colab\"/></a>"
      ]
    },
    {
      "cell_type": "markdown",
      "source": [
        "# **Detailed Project Description Cell**\n",
        "\n",
        "The major purpose of this project is to build on the Replicate project by creating generative AI for images and GIFs. It entails extensive computational effort to boost creative content generation by applying complex algorithms discovered in Google Colab. The project's emphasis on user customization possibilities assures that it may be tailored to a wide range of tastes.\n",
        "\n",
        " An assessment approach will be designed to evaluate algorithmic performance. The ultimate objective is to create a user-friendly and versatile tool for creating visual material, with applications ranging from multimedia production to creative pursuits, hence improving the user experience in creating digital media.\n",
        "\n",
        "\n",
        "\n",
        "## **OBJECTIVES** :\n",
        "- Put complex generative algorithms inspired by the Replicate project into practice.\n",
        "- Provide features that are easily adjustable and user-friendly.\n",
        "Check that it can adapt to diverse user preferences.\n",
        "- Develop a framework for evaluating algorithmic performance.\n",
        "- Provide a versatile tool for creating creative content.\n",
        "- Enhance users' digital media creation experiences.\n",
        "Look at its applications in multimedia production and artistic expression.\n",
        "\n",
        "\n",
        "\n",
        "\n",
        "\n",
        "## **OUTCOMES**\n",
        "\n",
        "* User-friendly features are expected to promote customization and flexibility, providing users with a wide range of options;\n",
        " * effective application of sophisticated algorithms, resulting in a versatile tool for creative content generation.\n",
        " * The purpose of developing a reliable assessment system is to ensure the resilience and performance of the generative AI.\n",
        " *  Finally, the project aspires to create a solution that can be utilized in multimedia production and artistic expression, delivering a rich and engaging user experience in the realm of digital content creation.\n",
        "\n",
        "\n",
        "\n",
        "\n",
        "\n",
        "\n",
        "\n",
        "\n",
        "\n"
      ],
      "metadata": {
        "id": "SJNvsyvv-jM1"
      }
    },
    {
      "cell_type": "markdown",
      "source": [
        "# **Modification/New Addition Specification**\n",
        "\n",
        "- The project will include an intuitive user interface for easy navigation and interaction, resulting in a more user-friendly experience. With the addition of adaptive learning techniques, the model will be able to grow and improve its creative outputs over time.\n",
        "-  The initiative will also look into integrating cloud-based technologies to boost accessibility and scalability. Within the Image and GIF Generative AI framework, real-time collaborative tools and an enlarged library of pre-trained models will be offered, giving users with a larger spectrum of creative options and simplifying the content development process.\n",
        "\n",
        "## **Justification aand ipact of the modifications**\n",
        "\n",
        "\n",
        "- The changes are critical for improving Image and GIF Generative AI based on the Replicate project.\n",
        "- The user-friendly design increases user engagement while also assuring accessibility and simplicity of usage. Adaptive learning encourages continual progress by dynamically modifying creative outputs.\n",
        "- Integration of cloud-based services improves not just scalability but also cooperation. The enlarged collection and real-time collaborative tools enhance the platform's creative potential, making it more adaptable.\n",
        "-  These changes improve the user experience, expand functionality, and cement the project's importance in providing a cutting-edge, adaptive, and collaborative tool for sophisticated visual content development.\n",
        "\n",
        "\n",
        "\n"
      ],
      "metadata": {
        "id": "DDwC-cRK2C_x"
      }
    },
    {
      "cell_type": "markdown",
      "source": [
        "# **Criteria-Specific Cell**\n",
        "\n",
        "## **Image and GIF creation using Repicate API Relevance :**\n",
        "\n",
        "+ The importance of Image and GIF Generative AI utilizing Replicate lies in its transformational influence on creative content production.\n",
        "+ It answers the rising requirement for user-friendly and configurable solutions by employing powerful algorithms within Google Colab.\n",
        "+ The project responds to the changing needs of digital media creation by providing an adaptable solution with potential applications in creative expression and multimedia production.\n",
        "+ The changes made improve accessibility, scalability, and cooperation, reaffirming the platform's relevance in delivering a cutting-edge and adaptable platform for users to explore and experiment in the area of visual content production.\n",
        "\n",
        "##**Application**\n",
        "+ It enables producers to create original visual material in artistic activities, boosting creativity.\n",
        "+ The tool improves narrative in multimedia creation by using dynamic and customizable visuals.\n",
        "+ Its versatility is useful in design, allowing for the production of personalized visuals.\n",
        "+ Furthermore, the incorporation of cloud-based applications improves accessibility and cooperation.\n",
        "+ This artificial intelligence program is a diverse and vital resource for people and businesses looking for innovative solutions for creative content generating and digital media production.\n",
        "\n",
        "## **Innovation**\n",
        "\n",
        "+ The innovative algorithms add a new level to creative content development by enabling dynamic and diversified outputs.\n",
        "+ The simple user interface promotes usability and accessibility. Furthermore, adaptive learning methods push the limits of generating capacities, while cloud integration advances scalability and cooperation.\n",
        "+ These novel components place the project at the vanguard of AI-driven visual content production, providing a complex and adaptable tool for users from a variety of creative professions.\n",
        "\n",
        "## **Technical proficiency**\n",
        "\n",
        "+ The project demonstrates skill in algorithmic development, resulting in robust original content production.\n",
        "+ User-friendly features show a thorough awareness of the user's wants and preferences.\n",
        "+ The creation of an assessment system demonstrates a dedication to technical accuracy, ensuring the dependability of generative AI outputs.\n",
        "+ Overall, the project demonstrates a high degree of technical proficiency, promoting itself as a smart and useful tool for users engaged in the development of visual material."
      ],
      "metadata": {
        "id": "6cfvQgVYFl6W"
      }
    },
    {
      "cell_type": "markdown",
      "source": [
        "# **5.Generate stone-picking-to-throwing GIF with Replicate..**\n",
        "\n",
        "Replicate is used in the code to make a gif animation. It makes use of the stable-diffusion-animation concept, ping-ponging from one prompt to the next.\n",
        "\n",
        " The generated animation depicts the dynamic progression of the provided prompts, producing visually appealing results.\n"
      ],
      "metadata": {
        "id": "U4dvFuOo7oxG"
      }
    },
    {
      "cell_type": "code",
      "source": [
        "# @title Video/gif/animation/Generation\n",
        "import replicate\n",
        "\n",
        "output = replicate.run(\n",
        "    \"andreasjansson/stable-diffusion-animation:ca1f5e306e5721e19c473e0d094e6603f0456fe759c10715fcd6c1b79242d4a5\",\n",
        "    input={\n",
        "        \"prompt_start\": \"man picking up a stone\",\n",
        "        \"prompt_end\": \"man throws stone\",\n",
        "        \"output_format\": \"gif\",\n",
        "        \"gif_ping_pong\": True\n",
        "    }\n",
        ")\n",
        "\n",
        "output\n"
      ],
      "metadata": {
        "colab": {
          "base_uri": "https://localhost:8080/"
        },
        "id": "6Owfxz0V3uov",
        "outputId": "c69ba54c-725b-46a9-95af-aa6b44549745"
      },
      "execution_count": null,
      "outputs": [
        {
          "output_type": "execute_result",
          "data": {
            "text/plain": [
              "<generator object Prediction.output_iterator at 0x7fa824357a00>"
            ]
          },
          "metadata": {},
          "execution_count": 7
        }
      ]
    },
    {
      "cell_type": "markdown",
      "source": [
        "# **6.Print Replicate-generated video details with iteration over output items.**\n",
        "\n",
        "This code loops over the Replicate output, which is likely to contain information about the movie or animation.\n",
        "\n",
        "The supplied URL leads to the Replicate API documentation, which suggests that it provides insights into the output schema, including information on the structure and format of the created material.\n",
        "\n"
      ],
      "metadata": {
        "id": "5G1iqzb-76Jo"
      }
    },
    {
      "cell_type": "code",
      "source": [
        "# @title generate video\n",
        "for item in output:\n",
        "     #https://replicate.com/andreasjansson/stable-diffusion-animation/versions/ca1f5e306e5721e19c473e0d094e6603f0456fe759c10715fcd6c1b79242d4a5/api#output-schema\n",
        "    print(item)"
      ],
      "metadata": {
        "colab": {
          "base_uri": "https://localhost:8080/"
        },
        "id": "1bkyp74E3wcl",
        "outputId": "bc00c2d2-8e1f-479a-b5c4-a2e3d1c2194f"
      },
      "execution_count": null,
      "outputs": [
        {
          "output_type": "stream",
          "name": "stdout",
          "text": [
            "https://replicate.delivery/pbxt/Pw3P6HY2OxKrCRruZwulKBV2A6Qrei4sWfmvettJ4M7EPf6HB/video.gif\n"
          ]
        }
      ]
    },
    {
      "cell_type": "markdown",
      "source": [
        "# **7.Attempts to retrieve video URL from Replicate output for display or download within Colab environment.**\n",
        "\n",
        "The code attempts to retrieve a video's URL in Colab from the Replicate output. However, there's an issue with \"item[0:len(item)]\", as it seems incomplete or incorrect for obtaining the URL.\n",
        "\n",
        "The purpose is likely to display or download the generated video within the Colab environment.\n",
        "\n"
      ],
      "metadata": {
        "id": "WK4etb_78Jq2"
      }
    },
    {
      "cell_type": "code",
      "source": [
        "\n",
        "# @title get the video on colab\n",
        "gif_url= item[0:len(item)]"
      ],
      "metadata": {
        "id": "exOI3-Rd3yn8"
      },
      "execution_count": null,
      "outputs": []
    },
    {
      "cell_type": "markdown",
      "source": [
        "# **8.Define Colab-ready video URL variable from Replicate output.**\n",
        "\n",
        "Using the requests library, the code obtains a GIF from the specified URL. The GIF is then displayed in the Colab notebook, stored as \"gif_output.gif,\" and showcased using PIL if successfully obtained; otherwise, an error notice is printed.\n",
        "\n"
      ],
      "metadata": {
        "id": "0J2u0K738Mk1"
      }
    },
    {
      "cell_type": "code",
      "source": [
        "# @title Show the video\n",
        "import requests\n",
        "from IPython.display import display, Image\n",
        "from PIL import Image as PILImage\n",
        "from io import BytesIO\n",
        "response = requests.get(gif_url)\n",
        "if response.status_code == 200:\n",
        "    # To Ddisplay the GIF in the notebook\n",
        "    display(Image(url=gif_url))\n",
        "\n",
        "    # To save the GIF in the Colab environment\n",
        "    with open(\"gif_output.gif\", \"wb\") as f:\n",
        "        f.write(response.content)\n",
        "\n",
        "    # TO show a saved GIF using PIL\n",
        "    saved_gif = PILImage.open(\"gif_output.gif\")\n",
        "    saved_gif.show()\n",
        "else:\n",
        "    print(\"Failed to fetch GIF\")\n"
      ],
      "metadata": {
        "colab": {
          "base_uri": "https://localhost:8080/",
          "height": 533
        },
        "id": "whx-a5Ne319x",
        "outputId": "609ea00b-ae51-4ec6-9936-6b3473426d5c"
      },
      "execution_count": null,
      "outputs": [
        {
          "output_type": "display_data",
          "data": {
            "text/html": [
              "<img src=\"https://replicate.delivery/pbxt/Pw3P6HY2OxKrCRruZwulKBV2A6Qrei4sWfmvettJ4M7EPf6HB/video.gif\"/>"
            ],
            "text/plain": [
              "<IPython.core.display.Image object>"
            ]
          },
          "metadata": {}
        }
      ]
    },
    {
      "cell_type": "markdown",
      "source": [
        "# **REFERENCES**\n",
        "\n",
        "\n",
        "* Google Colab. https://colab.google/\n",
        "* Python.org. https://www.python.org/doc/\n",
        "\n",
        "* turna1/GenAI: https://github.com/turna1/GenAI\n",
        "\n",
        "* Replicate. https://replicate.com/account/api-tokens\n"
      ],
      "metadata": {
        "id": "gdi6nuQbG9U6"
      }
    },
    {
      "cell_type": "markdown",
      "source": [
        "\n",
        "# **VIDEO PRESENTATION LINK**"
      ],
      "metadata": {
        "id": "NnHs-jd0HCvd"
      }
    },
    {
      "cell_type": "markdown",
      "source": [
        "\n",
        "# **Thank You**\n",
        "\n"
      ],
      "metadata": {
        "id": "HyYFTY6SLLok"
      }
    }
  ]
}