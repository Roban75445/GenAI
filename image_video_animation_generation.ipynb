{
  "nbformat": 4,
  "nbformat_minor": 0,
  "metadata": {
    "colab": {
      "provenance": [],
      "include_colab_link": true
    },
    "kernelspec": {
      "name": "python3",
      "display_name": "Python 3"
    },
    "language_info": {
      "name": "python"
    }
  },
  "cells": [
    {
      "cell_type": "markdown",
      "metadata": {
        "id": "view-in-github",
        "colab_type": "text"
      },
      "source": [
        "<a href=\"https://colab.research.google.com/github/Roban75445/GenAI/blob/main/image_video_animation_generation.ipynb\" target=\"_parent\"><img src=\"https://colab.research.google.com/assets/colab-badge.svg\" alt=\"Open In Colab\"/></a>"
      ]
    },
    {
      "cell_type": "markdown",
      "source": [
        "# **Detailed Project Description Cell**\n",
        "\n",
        "This endeavor primarily aims to improve the Replicate project by developing generative AI capabilities tailored to photos and GIFs. This is a large-scale computational project that makes use of complex algorithms found via testing in Google Colab. The project is heavily focused on providing users with a wide range of customization options so that it may be adjusted to suit a wide range of tastes.\n",
        "\n",
        "An elaborate evaluation framework will be developed in order to determine the efficacy of the algorithms used. The main goal is to provide an intuitive and adaptable tool for creating visual material, with applications ranging from multimedia production to other types of creative work. The project's ultimate goal is to improve the digital media production process for users by providing a strong and adaptable visual material generation tool.\n",
        "\n",
        "\n",
        "* Name- Robanpreet Kaur\n",
        "\n",
        "     Student id: 4347561.\n",
        "\n",
        "\n",
        "\n",
        "\n",
        "\n",
        "## **OBJECTIVES** :\n",
        "- Enhance Generative AI for Images and GIFs: Improve the Replicate project by developing generative AI for image and GIF generation.\n",
        "\n",
        "- Computational Optimization: Increase the project's creative content generating efficiency using large-scale computing. Optimizing algorithms from Google Colab experiments improves efficiency and performance.\n",
        "\n",
        "- User Customization choices: Develop a user-friendly interface with several customization choices. Make sure the tool can accommodate several user choices for a customized creative experience.\n",
        "\n",
        "- Algorithmic Performance Evaluation: Create a thorough framework to evaluate the project's complicated algorithms. This test will reveal generative AI's efficacy and dependability.\n",
        "\n",
        "- Versatility Across Creative Domains: Make sure the tool works in multimedia creation and other creative fields. A solution with wide applicability to meet user demands is the goal.\n",
        "\n",
        "- Improve user experience by offering a powerful, intuitive, and customizable tool for digital media creation. The initiative should streamline and simplify digital media creation for users.\n",
        "\n",
        "- Flexibility: Design the project to fit a variety of creative tastes and styles. This versatility is essential for attracting a broad user base with different creative tastes.\n",
        "\n",
        "\n",
        "\n",
        "\n",
        "\n",
        "\n",
        "## **OUTCOMES**\n",
        "\n",
        "* Advanced Generative AI Capabilities: Successful development and integration of enhanced generative AI capabilities specifically designed for creating images and GIFs, surpassing the capabilities of the original Replicate project.\n",
        "\n",
        "* Improved Computational Efficiency: Optimization of algorithms through extensive computational efforts, resulting in improved efficiency and performance in creative content generation.\n",
        "\n",
        "* Highly Customizable User Interface: Implementation of a user-friendly interface with extensive customization options, allowing users to tailor the generative AI tool to their individual preferences and creative styles.\n",
        "\n",
        "* Effective Algorithmic Performance: Establishment of a robust evaluation framework to assess the performance of complex algorithms, providing insights into their effectiveness, reliability, and suitability for creative applications.\n",
        "\n",
        "* Versatility Across Creative Domains: Successful demonstration of the tool's versatility, showcasing its applicability in multimedia production and various creative pursuits beyond traditional use cases.\n",
        "\n",
        "* Enhanced User Experience: Implementation of features and functionalities that significantly improve the overall user experience in digital media creation, making the process more intuitive, enjoyable, and efficient.\n",
        "\n",
        "* Adaptability to Diverse Tastes: Creation of a tool that can adapt to a wide range of artistic tastes, ensuring its appeal to a diverse user base with varying preferences in visual content creation.\n",
        "\n",
        "* Accessible and Intuitive Tool: Development of a generative AI tool that is accessible to users with varying levels of expertise, coupled wi\n",
        "\n",
        "\n",
        "\n",
        "\n",
        "\n",
        "\n",
        "\n",
        "\n",
        "\n"
      ],
      "metadata": {
        "id": "SJNvsyvv-jM1"
      }
    },
    {
      "cell_type": "markdown",
      "source": [
        "# **Modification/New Addition Specification**\n",
        "\n",
        "- The project will incorporate an easy-to-navigate and interact with user interface, resulting in a more user-friendly experience. The model will be able to expand and enhance its creative outputs over time with the use of adaptive learning methods.\n",
        "-  The effort will also investigate the use of cloud-based technologies to improve accessibility and scalability. Real-time collaboration tools and an expanded library of pre-trained models will be available inside the Image and GIF Generative AI framework, providing users with a broader range of creative alternatives and simplifying the content generation process.\n",
        "\n",
        "\n",
        "\n",
        "## **Justification aand impact of the modifications**\n",
        "\n",
        "\n",
        " User Independence:\n",
        "\n",
        "* Enhanced Creative Expression: Assess the project's effects on enabling users to express their creativity more effectively using the generative AI tool.\n",
        "* Adoption of Customization choices: Determine how much users embrace and use the customization choices, showing the tool's effectiveness in matching individual creative tastes.\n",
        "* varied User population: Consider the influence on recruiting a varied user population, including professional designers, artists, and others with various degrees of creative skill.\n",
        "\n",
        "\n",
        "\n",
        "\n",
        " Efficiency and Productivity:\n",
        "* Workflow Streamlining: Examine the tool's contribution to decreasing manual labor and time in content development.\n",
        "* Iterative Design: Examine how the generative AI tool supports iterative design processes, allowing users to iterate and modify their visual material fast.\n",
        "* Reduced Production Time: Calculate the effect on the total time necessary to produce high-quality photos and GIFs as compared to conventional techniques.\n",
        "\n",
        "\n",
        "\n"
      ],
      "metadata": {
        "id": "DDwC-cRK2C_x"
      }
    },
    {
      "cell_type": "markdown",
      "source": [
        "# **Criteria-Specific Cell**\n",
        "\n",
        "## **Image and GIF creation using Repicate API Relevance :**\n",
        "\n",
        "+ The significance of Image and GIF Generative AI using Replicate rests in the revolutionary impact it will have on the production of creative content. By utilizing powerful algorithms within Google Colab, the project meets the increasing demand for solutions that are both easy to use and customizable. It also addresses the evolving demands of digital media creation by offering a flexible solution that could be used for creative expression and multimedia production. The platform's importance in providing a cutting-edge and flexible platform for users to explore and experiment in the domain of visual content creation is reaffirmed by the adjustments made, which increase accessibility, scalability, and collaboration.\n",
        "\n",
        "\n",
        "# Applications:\n",
        "\n",
        "* Versatility in Creative sectors: Assess the tool's ability to adapt to a wide variety of applications in creative sectors such as graphic design, advertising, and digital art.\n",
        "* Integration with Multimedia Production: Examine how effectively the tool integrates with multimedia production processes, assisting in the generation of visually attractive material in a variety of media forms.\n",
        "* Examine the usefulness of the generative AI for developing material suited for social media sites, taking into account aspects such as engagement and shareability.\n",
        "* Accessibility for Non-Professionals: Evaluate the tool's usability for users of diverse levels of skill, highlighting its use for both professionals and novices in digital content production.\n",
        "\n",
        "#Innovation:\n",
        " * Assess the tool's ability to inspire creative exploration and innovation by encouraging users to experiment with new styles, ideas, and visual storytelling.\n",
        "* Output Novelty: Consider if the tool helps to pushing the limits of conventional visual content production by assessing the originality and novelty of the created pictures and GIFs.\n",
        "* Trend Adaptability: Consider how effectively the tool responds to current design and content development trends, demonstrating its relevance in modern creative environments.\n",
        "* Consider if the generative AI tool has the ability to contribute to the growth of creative expression in the digital domain.\n",
        "\n",
        "# Technical Proficiency:\n",
        "* Algorithmic Efficiency: Examine the technical competency of the content production algorithms, focusing on their efficiency in creating high-quality photos and GIFs.\n",
        "* Scalability: Assess the tool's capacity to manage various degrees of complexity in creative activities, guaranteeing consistent performance across project sizes.\n",
        "* Consider the tool's real-time processing capacity, particularly in circumstances where rapid iterations and tweaks are critical for creative operations.\n",
        "* Compatibility with Industry Standards: Make sure the generative AI tool is compliant with industry standards and technical requirements, allowing for smooth integration into current digital content production processes.\n"
      ],
      "metadata": {
        "id": "6cfvQgVYFl6W"
      }
    },
    {
      "cell_type": "markdown",
      "source": [
        "# 1.The pip package manager is used in the following cell to install the critical Replicate library, which is required for running models and exchanging material on the Replicate platform. This guarantees the smooth integration of the requirements required for using Replicate's features.\n"
      ],
      "metadata": {
        "id": "Kzj8f_xnCfXX"
      }
    },
    {
      "cell_type": "code",
      "source": [
        "# @title Install Replicate\n",
        "!pip install replicate"
      ],
      "metadata": {
        "id": "FzM7gyLaCrde",
        "outputId": "1eaa7832-f20c-44ad-b8c8-0f5c54edfc19",
        "colab": {
          "base_uri": "https://localhost:8080/"
        }
      },
      "execution_count": null,
      "outputs": [
        {
          "output_type": "stream",
          "name": "stdout",
          "text": [
            "Collecting replicate\n",
            "  Downloading replicate-0.22.0-py3-none-any.whl (35 kB)\n",
            "Collecting httpx<1,>=0.21.0 (from replicate)\n",
            "  Downloading httpx-0.25.2-py3-none-any.whl (74 kB)\n",
            "\u001b[2K     \u001b[90m━━━━━━━━━━━━━━━━━━━━━━━━━━━━━━━━━━━━━━━━\u001b[0m \u001b[32m75.0/75.0 kB\u001b[0m \u001b[31m4.5 MB/s\u001b[0m eta \u001b[36m0:00:00\u001b[0m\n",
            "\u001b[?25hRequirement already satisfied: packaging in /usr/local/lib/python3.10/dist-packages (from replicate) (23.2)\n",
            "Requirement already satisfied: pydantic>1 in /usr/local/lib/python3.10/dist-packages (from replicate) (1.10.13)\n",
            "Requirement already satisfied: typing-extensions>=4.5.0 in /usr/local/lib/python3.10/dist-packages (from replicate) (4.5.0)\n",
            "Requirement already satisfied: anyio in /usr/local/lib/python3.10/dist-packages (from httpx<1,>=0.21.0->replicate) (3.7.1)\n",
            "Requirement already satisfied: certifi in /usr/local/lib/python3.10/dist-packages (from httpx<1,>=0.21.0->replicate) (2023.11.17)\n",
            "Collecting httpcore==1.* (from httpx<1,>=0.21.0->replicate)\n",
            "  Downloading httpcore-1.0.2-py3-none-any.whl (76 kB)\n",
            "\u001b[2K     \u001b[90m━━━━━━━━━━━━━━━━━━━━━━━━━━━━━━━━━━━━━━━━\u001b[0m \u001b[32m76.9/76.9 kB\u001b[0m \u001b[31m7.3 MB/s\u001b[0m eta \u001b[36m0:00:00\u001b[0m\n",
            "\u001b[?25hRequirement already satisfied: idna in /usr/local/lib/python3.10/dist-packages (from httpx<1,>=0.21.0->replicate) (3.6)\n",
            "Requirement already satisfied: sniffio in /usr/local/lib/python3.10/dist-packages (from httpx<1,>=0.21.0->replicate) (1.3.0)\n",
            "Collecting h11<0.15,>=0.13 (from httpcore==1.*->httpx<1,>=0.21.0->replicate)\n",
            "  Downloading h11-0.14.0-py3-none-any.whl (58 kB)\n",
            "\u001b[2K     \u001b[90m━━━━━━━━━━━━━━━━━━━━━━━━━━━━━━━━━━━━━━━━\u001b[0m \u001b[32m58.3/58.3 kB\u001b[0m \u001b[31m7.0 MB/s\u001b[0m eta \u001b[36m0:00:00\u001b[0m\n",
            "\u001b[?25hRequirement already satisfied: exceptiongroup in /usr/local/lib/python3.10/dist-packages (from anyio->httpx<1,>=0.21.0->replicate) (1.2.0)\n",
            "Installing collected packages: h11, httpcore, httpx, replicate\n",
            "Successfully installed h11-0.14.0 httpcore-1.0.2 httpx-0.25.2 replicate-0.22.0\n"
          ]
        }
      ]
    },
    {
      "cell_type": "markdown",
      "source": [
        "## 2. This code block contains the necessary parameters for your Replicate API token, allowing authentication. By receiving your unique API key from your Replicate account, you guarantee a smooth and secure connection between your Colab notebook and the Replicate platform.\n"
      ],
      "metadata": {
        "id": "jVpm9CqmCz4A"
      }
    },
    {
      "cell_type": "code",
      "source": [
        "API = \"r8_e8KY1zIq5tI0vJcvkDLAFBWjBCWXcgS1SlYPx\"\n",
        "import os\n",
        "\n",
        "os.environ[\"REPLICATE_API_TOKEN\"] = API #find it here: https://replicate.com/signin?next=/account/api-tokens"
      ],
      "metadata": {
        "id": "kZWnYgTDC3lW"
      },
      "execution_count": null,
      "outputs": []
    },
    {
      "cell_type": "markdown",
      "source": [],
      "metadata": {
        "id": "a3SUFwR8CzsP"
      }
    },
    {
      "cell_type": "markdown",
      "source": [
        "# 3. Using the Replicate platform, this code cell creates a picture. The generating process is guided via the duplication function by the provided command (\"wearing a VR headset\"). A pre-trained model is used to run the function. The picture that results is stored in the output variable.\n"
      ],
      "metadata": {
        "id": "hY1wkhZ-C95F"
      }
    },
    {
      "cell_type": "code",
      "source": [
        "# @title Generate Image\n",
        "prompt = \"Girl Running\"\n",
        "import replicate\n",
        "\n",
        "output = replicate.run(\n",
        "  \"stability-ai/stable-diffusion:27b93a2413e7f36cd83da926f3656280b2931564ff050bf9575f1fdf9bcd7478\",\n",
        "  input={\"prompt\":prompt}\n",
        ")\n",
        "\n",
        "output"
      ],
      "metadata": {
        "id": "35rSAwHfDAxr",
        "outputId": "d9f2eebd-5c9a-46b6-8304-685035876b8e",
        "colab": {
          "base_uri": "https://localhost:8080/"
        }
      },
      "execution_count": null,
      "outputs": [
        {
          "output_type": "execute_result",
          "data": {
            "text/plain": [
              "['https://replicate.delivery/pbxt/rHpwrFQ1hVo3BBAYbbIRjZVeW6G7hTAfjwdy40STUBUJzSASA/out-0.png']"
            ]
          },
          "metadata": {},
          "execution_count": 3
        }
      ]
    },
    {
      "cell_type": "markdown",
      "source": [
        "['https://replicate.delivery/pbxt/TqY0eqD0Fi1AVCe90XKqw1tPrmTZ1MU4JX8CfnKIIPR5U99jA/out-0.png']\n"
      ],
      "metadata": {
        "id": "xjFfh2fMDHIX"
      }
    },
    {
      "cell_type": "markdown",
      "source": [
        "# 4. The created image is presented in this cell using the IPython picture class. The URL of the picture is acquired from the output variable obtained in the previous cell.\n"
      ],
      "metadata": {
        "id": "Xb3KBr2wDM_j"
      }
    },
    {
      "cell_type": "code",
      "source": [
        "\n",
        "from IPython.display import Image\n",
        "output_image = output\n",
        "Image(url=output_image[0])"
      ],
      "metadata": {
        "id": "WLzVCWKgDUur",
        "outputId": "658341d2-655e-4721-b48a-c1285a1cba76",
        "colab": {
          "base_uri": "https://localhost:8080/",
          "height": 534
        }
      },
      "execution_count": null,
      "outputs": [
        {
          "output_type": "execute_result",
          "data": {
            "text/html": [
              "<img src=\"https://replicate.delivery/pbxt/rHpwrFQ1hVo3BBAYbbIRjZVeW6G7hTAfjwdy40STUBUJzSASA/out-0.png\"/>"
            ],
            "text/plain": [
              "<IPython.core.display.Image object>"
            ]
          },
          "metadata": {},
          "execution_count": 4
        }
      ]
    },
    {
      "cell_type": "markdown",
      "source": [
        "# **5.Generating a girl running and than stopped GIF with Replicate..**\n",
        "\n",
        "The code makes use of Replicate to generate a GIF animation based on the stable-diffusion-animation notion. The animation moves in a ping-pong pattern from one prompt to the next. The generated animation depicts the dynamic progression of the provided prompts, producing aesthetically pleasant results.\n"
      ],
      "metadata": {
        "id": "U4dvFuOo7oxG"
      }
    },
    {
      "cell_type": "code",
      "source": [
        "# @title Video/gif/animation/Generation\n",
        "import replicate\n",
        "\n",
        "output = replicate.run(\n",
        "    \"andreasjansson/stable-diffusion-animation:ca1f5e306e5721e19c473e0d094e6603f0456fe759c10715fcd6c1b79242d4a5\",\n",
        "    input={\n",
        "        \"prompt_start\": \"Girl Running\",\n",
        "        \"prompt_end\": \"Girl Stopped\",\n",
        "        \"output_format\": \"gif\",\n",
        "        \"gif_ping_pong\": True\n",
        "    }\n",
        ")\n",
        "\n",
        "output\n"
      ],
      "metadata": {
        "colab": {
          "base_uri": "https://localhost:8080/"
        },
        "id": "6Owfxz0V3uov",
        "outputId": "2d74f120-038f-42cf-e91e-a9c2ded61c59"
      },
      "execution_count": null,
      "outputs": [
        {
          "output_type": "execute_result",
          "data": {
            "text/plain": [
              "<generator object Prediction.output_iterator at 0x783878678f20>"
            ]
          },
          "metadata": {},
          "execution_count": 5
        }
      ]
    },
    {
      "cell_type": "markdown",
      "source": [
        "# **6.To print details of a Replicate-generated video, iterate over the output items and extract relevant information. Here's a Python code snippet to illustrate:**\n",
        "\n",
        "This function loops over the Replicate output, which should include information about the created movie or animation.\n",
        "\n",
        "The specified URL connects to the Replicate API documentation, which indicates that it contains useful information about the output schema. This documentation will most likely give insights into the structure and format of the produced information, allowing for a better understanding and application of the generated material.\n",
        "\n",
        "\n"
      ],
      "metadata": {
        "id": "5G1iqzb-76Jo"
      }
    },
    {
      "cell_type": "code",
      "source": [
        "# @title generate video\n",
        "for item in output:\n",
        "     #https://replicate.com/andreasjansson/stable-diffusion-animation/versions/ca1f5e306e5721e19c473e0d094e6603f0456fe759c10715fcd6c1b79242d4a5/api#output-schema\n",
        "    print(item)"
      ],
      "metadata": {
        "colab": {
          "base_uri": "https://localhost:8080/"
        },
        "id": "1bkyp74E3wcl",
        "outputId": "5b21794c-ad6b-4496-8a14-ecb2ae075343"
      },
      "execution_count": null,
      "outputs": [
        {
          "output_type": "stream",
          "name": "stdout",
          "text": [
            "https://replicate.delivery/pbxt/ItVevfSvXQu2Bk5PQsuM3BJf1yLPIqzz6zAgwGPj2Z221lAkA/video.gif\n"
          ]
        }
      ]
    },
    {
      "cell_type": "markdown",
      "source": [
        "# **7. Attempts to obtain the video URL from the Replicate output for viewing or download inside the Colab environment.\n",
        "\n",
        "The code tries to obtain the URL of a movie in Colab from the Replicate output. However, \"item[0:len(item)]\" seems to be incomplete or inaccurate for retrieving the URL.\n",
        "\n",
        "The goal is most likely to show or download the created video inside the Colab environment.\n",
        "\n"
      ],
      "metadata": {
        "id": "WK4etb_78Jq2"
      }
    },
    {
      "cell_type": "code",
      "source": [
        "\n",
        "# @title get the video on colab\n",
        "gif_url= item[0:len(item)]"
      ],
      "metadata": {
        "id": "exOI3-Rd3yn8"
      },
      "execution_count": null,
      "outputs": []
    },
    {
      "cell_type": "markdown",
      "source": [
        "# **8.The code utilizes the requests library to retrieve a GIF from a designated URL. Subsequently, the obtained GIF is exhibited within the Colab notebook, saved as \"gif_output.gif,\" and displayed using PIL. In the event of unsuccessful retrieval, an error notice is printed.\n"
      ],
      "metadata": {
        "id": "0J2u0K738Mk1"
      }
    },
    {
      "cell_type": "code",
      "source": [
        "# @title Show the video\n",
        "import requests\n",
        "from IPython.display import display, Image\n",
        "from PIL import Image as PILImage\n",
        "from io import BytesIO\n",
        "response = requests.get(gif_url)\n",
        "if response.status_code == 200:\n",
        "    # To Ddisplay the GIF in the notebook\n",
        "    display(Image(url=gif_url))\n",
        "\n",
        "    # To save the GIF in the Colab environment\n",
        "    with open(\"gif_output.gif\", \"wb\") as f:\n",
        "        f.write(response.content)\n",
        "\n",
        "    # TO show a saved GIF using PIL\n",
        "    saved_gif = PILImage.open(\"gif_output.gif\")\n",
        "    saved_gif.show()\n",
        "else:\n",
        "    print(\"Failed to fetch GIF\")\n"
      ],
      "metadata": {
        "colab": {
          "base_uri": "https://localhost:8080/",
          "height": 534
        },
        "id": "whx-a5Ne319x",
        "outputId": "32eb5634-9905-43f9-b939-4528418cd0ad"
      },
      "execution_count": null,
      "outputs": [
        {
          "output_type": "display_data",
          "data": {
            "text/html": [
              "<img src=\"https://replicate.delivery/pbxt/ItVevfSvXQu2Bk5PQsuM3BJf1yLPIqzz6zAgwGPj2Z221lAkA/video.gif\"/>"
            ],
            "text/plain": [
              "<IPython.core.display.Image object>"
            ]
          },
          "metadata": {}
        }
      ]
    },
    {
      "cell_type": "markdown",
      "source": [
        "# **REFERENCES**\n",
        "\n",
        "\n",
        "* Google Colab. https://colab.google/\n",
        "\n",
        "* Qwiklabs. (2023, October 9). Introduction to Generative AI | Google Cloud Skills Boost. https://www.cloudskillsboost.google/course_templates/536\n",
        "\n",
        "* Learn Prompting: Your Guide to Communicating with AI. (n.d.). https://learnprompting.org/docs/intro\n",
        "\n",
        "* Replicate. https://replicate.com/account/api-tokens\n"
      ],
      "metadata": {
        "id": "gdi6nuQbG9U6"
      }
    },
    {
      "cell_type": "markdown",
      "source": [
        "\n",
        "# **VIDEO PRESENTATION LINK**"
      ],
      "metadata": {
        "id": "NnHs-jd0HCvd"
      }
    },
    {
      "cell_type": "markdown",
      "source": [
        "\n",
        "# **Thank You**\n",
        "\n"
      ],
      "metadata": {
        "id": "HyYFTY6SLLok"
      }
    }
  ]
}